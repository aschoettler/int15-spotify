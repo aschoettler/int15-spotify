{
 "cells": [
  {
   "cell_type": "markdown",
   "metadata": {},
   "source": [
    "# Acoustic Features"
   ]
  },
  {
   "cell_type": "markdown",
   "metadata": {},
   "source": [
    "\n"
   ]
  },
  {
   "cell_type": "code",
   "execution_count": null,
   "metadata": {},
   "outputs": [],
   "source": [
    "import numpy as np\n",
    "import pandas as pd\n",
    "import matplotlib.pyplot as plt\n",
    "import seaborn as sns\n",
    "import time"
   ]
  },
  {
   "cell_type": "code",
   "execution_count": null,
   "metadata": {},
   "outputs": [],
   "source": [
    "acoustics = pd.read_csv(\"acoustic_features.csv\")\n",
    "billboard = pd.read_csv(\"albums.csv\")\n",
    "# pitchfork = pd.read_csv(\"reviews.csv\")\n",
    "# billboard_pitchfork = pd.read_pickle(\"./grouped_billboard.pkl\")\n",
    "# all_data = pd.read_pickle('./BILLFUZZYPITCHFINISHED.pkl')"
   ]
  },
  {
   "cell_type": "markdown",
   "metadata": {},
   "source": [
    "`mode`: Major = 1, Minor = 0\n",
    "`key`: C = 0.0, increments by half-steps up to B which is 11.0"
   ]
  },
  {
   "cell_type": "markdown",
   "metadata": {},
   "source": [
    "### Prepare Data"
   ]
  },
  {
   "cell_type": "markdown",
   "metadata": {},
   "source": [
    "### Billboard Association"
   ]
  },
  {
   "cell_type": "code",
   "execution_count": null,
   "metadata": {},
   "outputs": [],
   "source": [
    "## Group acoustics by artist + album --> reset index to MultiIndex on ['artist', 'album']\n",
    "af_data_keys = ['acousticness', 'danceability', 'duration_ms', 'energy', 'instrumentalness', 'key', 'liveness', 'loudness', 'mode', 'speechiness', 'tempo', 'valence'];\n",
    "acoustic_data = acoustics[['artist', 'album'] + af_data_keys].dropna()\n",
    "\n",
    "## Only need some billboard data\n",
    "billboard_data = billboard[['artist', 'album', 'rank']].dropna()\n",
    "billboard_data = billboard_data.groupby(['artist', 'album'])[['rank']].agg(min)\n",
    "billboard_data.columns = billboard_data.columns.get_level_values(0)"
   ]
  },
  {
   "cell_type": "code",
   "execution_count": null,
   "metadata": {},
   "outputs": [],
   "source": [
    "## Merge the datasets\n",
    "acousticbb_data = acoustic_data.merge(billboard_data, how = 'inner', left_on = ['artist', 'album'], right_on = ['artist', 'album']);\n",
    "\n",
    "print(\"Original acoustic / final dataframe shape:\")\n",
    "print(acoustic_data.shape)\n",
    "print(acousticbb_data.dropna().shape)"
   ]
  },
  {
   "cell_type": "markdown",
   "metadata": {},
   "source": [
    "#### Pairplot & Correlation Matrix"
   ]
  },
  {
   "cell_type": "code",
   "execution_count": null,
   "metadata": {},
   "outputs": [],
   "source": [
    "sns.pairplot(acousticbb_data[:10000])\n",
    "plt.show()\n",
    "\n",
    "plt.matshow(acousticbb_data.corr(), cmap = \"RdBu\")\n",
    "acousticbb_data.corr()"
   ]
  },
  {
   "cell_type": "markdown",
   "metadata": {},
   "source": [
    "## Regression"
   ]
  },
  {
   "cell_type": "code",
   "execution_count": null,
   "metadata": {},
   "outputs": [],
   "source": [
    "## Run the Regression\n",
    "X = acousticbb_data[af_data_keys]\n",
    "Y = acousticbb_data['rank']\n",
    "\n",
    "# (u, s, vt) = np.linalg.svd(X)\n",
    "# print(\"SVD: \", u.shape, s.shape, vt.shape)\n",
    "\n",
    "analytical_thetas = np.linalg.pinv(X) @ Y;\n",
    "\n",
    "loss_values = X @ analytical_thetas - Y"
   ]
  },
  {
   "cell_type": "code",
   "execution_count": null,
   "metadata": {},
   "outputs": [],
   "source": [
    "from sklearn import linear_model\n",
    "from scipy import stats\n",
    "import statsmodels.api as sm\n",
    "\n",
    "model = sm.OLS(Y, X).fit()\n",
    "model.summary()"
   ]
  }
 ],
 "metadata": {
  "kernelspec": {
   "display_name": "Python 3",
   "language": "python",
   "name": "python3"
  },
  "language_info": {
   "codemirror_mode": {
    "name": "ipython",
    "version": 3
   },
   "file_extension": ".py",
   "mimetype": "text/x-python",
   "name": "python",
   "nbconvert_exporter": "python",
   "pygments_lexer": "ipython3",
   "version": "3.7.3"
  }
 },
 "nbformat": 4,
 "nbformat_minor": 2
}
