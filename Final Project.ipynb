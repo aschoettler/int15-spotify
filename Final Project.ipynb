{
 "cells": [
  {
   "cell_type": "code",
   "execution_count": 2,
   "metadata": {},
   "outputs": [],
   "source": [
    "import numpy as np\n",
    "import pandas as pd\n",
    "import matplotlib.pyplot as plt\n",
    "import seaborn as sns"
   ]
  },
  {
   "cell_type": "code",
   "execution_count": 3,
   "metadata": {},
   "outputs": [],
   "source": [
    "# ! python -m site"
   ]
  },
  {
   "cell_type": "code",
   "execution_count": 4,
   "metadata": {},
   "outputs": [],
   "source": [
    "# ! pip install fuzzymatcher\n",
    "# https://github.com/RobinL/fuzzymatcher/issues/42\n",
    "\n",
    "# from fuzzymatcher import link_table, fuzzy_left_join\n",
    "# import fuzzymatcher\n",
    "\n",
    "# fuzzymatcher.link_table(df_left, df_right, left_on, right_on)"
   ]
  },
  {
   "cell_type": "markdown",
   "metadata": {},
   "source": [
    "## Spotify Data, Pitchfork Reviews\n",
    "\n",
    "First, we are going to upload to the acoustic_features.csv, albums.csv, and reviews.csv file."
   ]
  },
  {
   "cell_type": "code",
   "execution_count": 5,
   "metadata": {},
   "outputs": [],
   "source": [
    "acoustics = pd.read_csv(\"acoustic_features.csv\")\n",
    "billboard = pd.read_csv(\"albums.csv\")\n",
    "pitchfork = pd.read_csv(\"reviews.csv\")\n",
    "# billboard_pitchfork = pd.read_pickle(\"./grouped_billboard.pkl\")"
   ]
  },
  {
   "cell_type": "code",
   "execution_count": 6,
   "metadata": {},
   "outputs": [
    {
     "data": {
      "text/html": [
       "<div>\n",
       "<style scoped>\n",
       "    .dataframe tbody tr th:only-of-type {\n",
       "        vertical-align: middle;\n",
       "    }\n",
       "\n",
       "    .dataframe tbody tr th {\n",
       "        vertical-align: top;\n",
       "    }\n",
       "\n",
       "    .dataframe thead th {\n",
       "        text-align: right;\n",
       "    }\n",
       "</style>\n",
       "<table border=\"1\" class=\"dataframe\">\n",
       "  <thead>\n",
       "    <tr style=\"text-align: right;\">\n",
       "      <th></th>\n",
       "      <th>index</th>\n",
       "      <th>id</th>\n",
       "      <th>artist</th>\n",
       "      <th>album</th>\n",
       "      <th>genre</th>\n",
       "      <th>score</th>\n",
       "      <th>date</th>\n",
       "      <th>author</th>\n",
       "      <th>role</th>\n",
       "      <th>review</th>\n",
       "      <th>bnm</th>\n",
       "      <th>link</th>\n",
       "    </tr>\n",
       "  </thead>\n",
       "  <tbody>\n",
       "    <tr>\n",
       "      <th>0</th>\n",
       "      <td>0</td>\n",
       "      <td>0</td>\n",
       "      <td>David Byrne</td>\n",
       "      <td>“…The Best Live Show of All Time” — NME EP</td>\n",
       "      <td>Rock</td>\n",
       "      <td>5.5</td>\n",
       "      <td>January 11 2019</td>\n",
       "      <td>Andy Beta</td>\n",
       "      <td>Contributor</td>\n",
       "      <td>Viva Brother, Terris, Mansun, the Twang, Joe L...</td>\n",
       "      <td>0</td>\n",
       "      <td>https://pitchfork.com/reviews/albums/david-byr...</td>\n",
       "    </tr>\n",
       "    <tr>\n",
       "      <th>1</th>\n",
       "      <td>1</td>\n",
       "      <td>1</td>\n",
       "      <td>DJ Healer</td>\n",
       "      <td>Lost Lovesongs / Lostsongs Vol. 2</td>\n",
       "      <td>Electronic</td>\n",
       "      <td>6.2</td>\n",
       "      <td>January 11 2019</td>\n",
       "      <td>Chal Ravens</td>\n",
       "      <td>Contributor</td>\n",
       "      <td>The Prince of Denmark—that is, the proper prin...</td>\n",
       "      <td>0</td>\n",
       "      <td>https://pitchfork.com/reviews/albums/dj-healer...</td>\n",
       "    </tr>\n",
       "    <tr>\n",
       "      <th>2</th>\n",
       "      <td>2</td>\n",
       "      <td>2</td>\n",
       "      <td>Jorge Velez</td>\n",
       "      <td>Roman Birds</td>\n",
       "      <td>Electronic</td>\n",
       "      <td>7.9</td>\n",
       "      <td>January 10 2019</td>\n",
       "      <td>Philip Sherburne</td>\n",
       "      <td>Contributing Editor</td>\n",
       "      <td>Jorge Velez has long been prolific, but that’s...</td>\n",
       "      <td>0</td>\n",
       "      <td>https://pitchfork.com/reviews/albums/jorge-vel...</td>\n",
       "    </tr>\n",
       "    <tr>\n",
       "      <th>3</th>\n",
       "      <td>3</td>\n",
       "      <td>3</td>\n",
       "      <td>Chandra</td>\n",
       "      <td>Transportation EPs</td>\n",
       "      <td>Rock</td>\n",
       "      <td>7.8</td>\n",
       "      <td>January 10 2019</td>\n",
       "      <td>Andy Beta</td>\n",
       "      <td>Contributor</td>\n",
       "      <td>When the Avalanches returned in 2016 after an ...</td>\n",
       "      <td>0</td>\n",
       "      <td>https://pitchfork.com/reviews/albums/chandra-t...</td>\n",
       "    </tr>\n",
       "    <tr>\n",
       "      <th>4</th>\n",
       "      <td>4</td>\n",
       "      <td>4</td>\n",
       "      <td>The Chainsmokers</td>\n",
       "      <td>Sick Boy</td>\n",
       "      <td>Electronic</td>\n",
       "      <td>3.1</td>\n",
       "      <td>January 9 2019</td>\n",
       "      <td>Larry Fitzmaurice</td>\n",
       "      <td>Contributor</td>\n",
       "      <td>We’re going to be stuck with the Chainsmokers ...</td>\n",
       "      <td>0</td>\n",
       "      <td>https://pitchfork.com/reviews/albums/the-chain...</td>\n",
       "    </tr>\n",
       "  </tbody>\n",
       "</table>\n",
       "</div>"
      ],
      "text/plain": [
       "   index  id            artist                                       album  \\\n",
       "0      0   0       David Byrne  “…The Best Live Show of All Time” — NME EP   \n",
       "1      1   1         DJ Healer           Lost Lovesongs / Lostsongs Vol. 2   \n",
       "2      2   2       Jorge Velez                                 Roman Birds   \n",
       "3      3   3           Chandra                          Transportation EPs   \n",
       "4      4   4  The Chainsmokers                                    Sick Boy   \n",
       "\n",
       "        genre  score             date             author                 role  \\\n",
       "0        Rock    5.5  January 11 2019          Andy Beta          Contributor   \n",
       "1  Electronic    6.2  January 11 2019        Chal Ravens          Contributor   \n",
       "2  Electronic    7.9  January 10 2019   Philip Sherburne  Contributing Editor   \n",
       "3        Rock    7.8  January 10 2019          Andy Beta          Contributor   \n",
       "4  Electronic    3.1   January 9 2019  Larry Fitzmaurice          Contributor   \n",
       "\n",
       "                                              review  bnm  \\\n",
       "0  Viva Brother, Terris, Mansun, the Twang, Joe L...    0   \n",
       "1  The Prince of Denmark—that is, the proper prin...    0   \n",
       "2  Jorge Velez has long been prolific, but that’s...    0   \n",
       "3  When the Avalanches returned in 2016 after an ...    0   \n",
       "4  We’re going to be stuck with the Chainsmokers ...    0   \n",
       "\n",
       "                                                link  \n",
       "0  https://pitchfork.com/reviews/albums/david-byr...  \n",
       "1  https://pitchfork.com/reviews/albums/dj-healer...  \n",
       "2  https://pitchfork.com/reviews/albums/jorge-vel...  \n",
       "3  https://pitchfork.com/reviews/albums/chandra-t...  \n",
       "4  https://pitchfork.com/reviews/albums/the-chain...  "
      ]
     },
     "execution_count": 6,
     "metadata": {},
     "output_type": "execute_result"
    }
   ],
   "source": [
    "pitchfork.head()"
   ]
  },
  {
   "cell_type": "markdown",
   "metadata": {},
   "source": [
    "## Size of each data set:"
   ]
  },
  {
   "cell_type": "code",
   "execution_count": 7,
   "metadata": {},
   "outputs": [
    {
     "name": "stdout",
     "output_type": "stream",
     "text": [
      "The size of the acoustics dataset is: 339,855 rows.\n",
      "The size of the billboard dataset is: 573,947 rows.\n",
      "The size of the pitchfork dataset is: 20,873 rows.\n"
     ]
    }
   ],
   "source": [
    "print(\"The size of the acoustics dataset is:\",\"{:,}\".format(acoustics.shape[0]), \"rows.\")\n",
    "print(\"The size of the billboard dataset is:\",\"{:,}\".format(billboard.shape[0]), \"rows.\")\n",
    "print(\"The size of the pitchfork dataset is:\",\"{:,}\".format(pitchfork.shape[0]), \"rows.\")"
   ]
  },
  {
   "cell_type": "markdown",
   "metadata": {},
   "source": [
    "## Data Cleaning: String Lowercasing Artist and Album in Pitchfork and Billboard"
   ]
  },
  {
   "cell_type": "code",
   "execution_count": 9,
   "metadata": {
    "scrolled": true
   },
   "outputs": [],
   "source": [
    "\"\"\"\n",
    "\"ó\", \"é\", \"+\", \",\", \"ö\", \"\"\n",
    "\"rancid/nofx\" vs. \"rancidand nofx\"\n",
    ".replace(\"_\",\" \")\n",
    "remove \"*\"\n",
    "remove \"-\"\n",
    "\"ç\",\"c\"\n",
    "\"\"\n",
    "\" da\", \"\"\n",
    "\"-\", \" \"\n",
    "\"melvins\", \"the melvins\"\n",
    "\"\"\"\n",
    "\n",
    "p_artist = pitchfork[\"artist\"].str.lower()\n",
    "p_artist = p_artist.str.replace(\"&\",\" and\")\n",
    "p_artist = p_artist.str.replace(\"$\", \"s\")\n",
    "p_artist = p_artist.str.replace(\".\",\"\")\n",
    "p_artist = p_artist.str.replace(\"ó\",\"o\")\n",
    "p_artist = p_artist.str.replace(\"ö\",\"o\")\n",
    "p_artist = p_artist.str.replace(\",\",\" and\")\n",
    "p_artist = p_artist.str.replace(\"é\",\"e\")\n",
    "p_artist = p_artist.str.replace(\"é\",\"e\")\n",
    "p_artist = p_artist.str.replace(\"+\",\"and\")\n",
    "p_artist = p_artist.str.replace(\"ç\",\"c\")\n",
    "p_artist = p_artist.str.replace(\"*\",\"\")\n",
    "p_artist = p_artist.str.replace(\"-\",\" \")\n",
    "p_artist = p_artist.str.replace(\" da\", \"\")\n",
    "p_artist = p_artist.str.replace(\"/\", \" and \")\n",
    "p_artist = p_artist.str.replace(\"melvins\", \"the melvins\")\n",
    "p_artist = p_artist.str.replace(\"futureand\", \"future and\")\n",
    "p_album = pitchfork[\"album\"].str.lower()\n",
    "pitchfork[\"artist\"] = p_artist\n",
    "pitchfork[\"album\"] = p_album\n",
    "\n",
    "b_artist = billboard[\"artist\"].str.lower()\n",
    "b_artist = b_artist.str.replace(\"&\",\" and\")\n",
    "b_artist = b_artist.str.replace(\"$\", \"s\")\n",
    "b_artist = b_artist.str.replace(\".\",\"\")\n",
    "b_artist = b_artist.str.replace(\"ó\",\"o\")\n",
    "b_artist = b_artist.str.replace(\"ö\",\"o\")\n",
    "b_artist = b_artist.str.replace(\",\",\" and\")\n",
    "b_artist = b_artist.str.replace(\"é\",\"e\")\n",
    "b_artist = b_artist.str.replace(\"é\",\"e\")\n",
    "b_artist = b_artist.str.replace(\"+\",\"and\")\n",
    "b_artist = b_artist.str.replace(\"ç\",\"c\")\n",
    "b_artist = b_artist.str.replace(\"*\",\"\")\n",
    "b_artist = b_artist.str.replace(\"-\",\" \")\n",
    "b_artist = b_artist.str.replace(\" da\", \"\")\n",
    "b_artist = b_artist.str.replace(\"/\", \" and \")\n",
    "b_artist = b_artist.str.replace(\"melvins\", \"the melvins\")\n",
    "b_artist = b_artist.str.replace(\"futureand\", \"future and\")\n",
    "\n",
    "\n",
    "b_album = billboard[\"album\"].str.lower()\n",
    "billboard[\"artist\"] = b_artist\n",
    "billboard[\"album\"] = b_album\n",
    "billboard = billboard.iloc[1:]"
   ]
  },
  {
   "cell_type": "markdown",
   "metadata": {},
   "source": [
    "## Fuzzy Matching"
   ]
  },
  {
   "cell_type": "code",
   "execution_count": 10,
   "metadata": {},
   "outputs": [],
   "source": [
    "billboard.query(\"album=='Flower Boy'\");"
   ]
  },
  {
   "cell_type": "code",
   "execution_count": 11,
   "metadata": {},
   "outputs": [
    {
     "name": "stdout",
     "output_type": "stream",
     "text": [
      "Empty DataFrame\n",
      "Columns: [index, id, date, artist, album, rank, length, track_length]\n",
      "Index: []\n"
     ]
    }
   ],
   "source": [
    "bad_artists = ['Japandroids', 'Sammy Kershaw', 'Keef Hartley Band', 'Vanilla Fudge']\n",
    "\n",
    "grouped_billboard = billboard.loc[billboard.groupby([\"album\"])[\"rank\"].idxmin()]\n",
    "grouped_billboard = grouped_billboard.sort_values(by=\"date\",ascending=False)\n",
    "grouped_billboard = grouped_billboard[grouped_billboard['artist'] != \"japandroids\"]\n",
    "grouped_billboard = grouped_billboard[grouped_billboard['artist'] != \"sammy kershaw\"]\n",
    "grouped_billboard = grouped_billboard[grouped_billboard['artist'] != \"keef hartley band\"]\n",
    "print(grouped_billboard.query(\"artist == 'Vanilla Fudge'\"))\n",
    "grouped_billboard = grouped_billboard[grouped_billboard['artist'] != \"vanilla fudge\"]"
   ]
  },
  {
   "cell_type": "code",
   "execution_count": 12,
   "metadata": {},
   "outputs": [
    {
     "data": {
      "text/plain": [
       "5"
      ]
     },
     "execution_count": 12,
     "metadata": {},
     "output_type": "execute_result"
    }
   ],
   "source": [
    "len(grouped_billboard.head())"
   ]
  },
  {
   "cell_type": "code",
   "execution_count": 13,
   "metadata": {},
   "outputs": [],
   "source": [
    "#Fuzzymatcher\n",
    "\n",
    "left_on = ['artist', 'album'] # BB\n",
    "right_on = ['artist', 'album'] # PF\n",
    "\n",
    "#df = fuzzymatcher.link_table(grouped_billboard, pitchfork.iloc[:-1], left_on, right_on, left_id_col = \"index\", right_id_col = \"index\")"
   ]
  },
  {
   "cell_type": "markdown",
   "metadata": {},
   "source": [
    "## The Final Version Gets Saved To A Pickle"
   ]
  },
  {
   "cell_type": "code",
   "execution_count": 14,
   "metadata": {},
   "outputs": [],
   "source": [
    "# df.to_pickle('./fuzzymatched.pkl')\n",
    "#original_df.to_pickle(\"./dummy.pkl\")"
   ]
  },
  {
   "cell_type": "markdown",
   "metadata": {},
   "source": [
    "```python\n",
    "df = pd.read_pickle('fuzzymatched.pkl')\n",
    "```"
   ]
  },
  {
   "cell_type": "markdown",
   "metadata": {},
   "source": [
    "## Fuzzy match complete: joining good_rows to grouped_billboard"
   ]
  },
  {
   "cell_type": "markdown",
   "metadata": {},
   "source": [
    "```python\n",
    "good_rows = df[df[\"match_score\"] > 0.6]\n",
    "good_rows = good_rows[good_rows[\"match_rank\"] == 1]\n",
    "good_rows = good_rows.rename(index=str, columns={\"__id_right\": \"pitchfork_id\", \"__id_left\": \"billboard_id\"})\n",
    "good_rows.head()\n",
    "```"
   ]
  },
  {
   "cell_type": "markdown",
   "metadata": {},
   "source": [
    "Processing the fuzzybillboard dataset."
   ]
  },
  {
   "cell_type": "code",
   "execution_count": null,
   "metadata": {},
   "outputs": [],
   "source": [
    "fuzzybillboard = grouped_billboard.merge(good_rows, left_on='index', right_on='billboard_id', how = \"left\") #.sort_values(by='date', ascending = False)\n",
    "fuzzybillboard"
   ]
  },
  {
   "cell_type": "code",
   "execution_count": null,
   "metadata": {},
   "outputs": [],
   "source": [
    "billfuzzypitch = fuzzybillboard.merge(pitchfork, left_on = \"pitchfork_id\", right_on=\"index\", how=\"left\")\n",
    "#pitch = billfuzzypitch[\"review\"].isnull()\n",
    "#pitch\n",
    "billfuzzypitch = billfuzzypitch.sort_values(by=['date_x', 'rank'], ascending = [False, True])"
   ]
  },
  {
   "cell_type": "code",
   "execution_count": null,
   "metadata": {},
   "outputs": [],
   "source": [
    "billfuzzypitch[\"hasreview\"] = billfuzzypitch['review'].notnull()\n",
    "billfuzzypitch.query(\"hasreview == True\")"
   ]
  },
  {
   "cell_type": "markdown",
   "metadata": {},
   "source": [
    "## Now dropping unnecessary columns from the billfuzzypitch dataset "
   ]
  },
  {
   "cell_type": "code",
   "execution_count": null,
   "metadata": {},
   "outputs": [],
   "source": [
    "## TO DO LIST:\n",
    "# Drop the id_x colum\n",
    "#rename the index_x album billboard_id and delete the billboard_id colum\n"
   ]
  },
  {
   "cell_type": "code",
   "execution_count": null,
   "metadata": {},
   "outputs": [],
   "source": [
    "billfuzzypitch.head()"
   ]
  },
  {
   "cell_type": "code",
   "execution_count": null,
   "metadata": {},
   "outputs": [],
   "source": [
    "billfuzzypitch = billfuzzypitch.drop(columns = ['id_x','billboard_id','match_score','match_rank','artist_left','artist_right','artist_y','album_left', 'album_right','album_y', 'index_y','id_y'])\n",
    "billfuzzypitch = billfuzzypitch.rename(index = str, columns = {\"index_x\":\"billboard index\",\"date_x\":\"billboard date\",\"artist_x\":\"artist\",\"album_x\":\"album\",\"pitchfork_id\": \"pitchfork index\", \"track_length\": \"track length\", \"date_y\": \"date of review\", \"rank\": \"billboard rank\", \"score\": \"pitchfork score\"})"
   ]
  },
  {
   "cell_type": "code",
   "execution_count": null,
   "metadata": {},
   "outputs": [],
   "source": [
    "billfuzzypitch.head()"
   ]
  },
  {
   "cell_type": "code",
   "execution_count": null,
   "metadata": {},
   "outputs": [],
   "source": [
    "df.to_pickle('./grouped_billboardandpitchfork1.pkl')\\"
   ]
  },
  {
   "cell_type": "markdown",
   "metadata": {},
   "source": [
    "## Finished"
   ]
  },
  {
   "cell_type": "code",
   "execution_count": null,
   "metadata": {},
   "outputs": [],
   "source": [
    "billfuzzypitch.head()"
   ]
  },
  {
   "cell_type": "code",
   "execution_count": null,
   "metadata": {},
   "outputs": [],
   "source": [
    "billfuzzypitch.to_pickle('./BILLFUZZYPITCHFINISHED.pkl')"
   ]
  },
  {
   "cell_type": "code",
   "execution_count": null,
   "metadata": {},
   "outputs": [],
   "source": [
    "billfuzzypitch = pd.read_pickle('./BILLFUZZYPITCHFINISHED.pkl')"
   ]
  },
  {
   "cell_type": "code",
   "execution_count": null,
   "metadata": {},
   "outputs": [],
   "source": [
    "billfuzzypitch.query(\"artist == 'arcade fire'\")"
   ]
  },
  {
   "cell_type": "markdown",
   "metadata": {},
   "source": [
    "## Exploratory Data Analysis"
   ]
  },
  {
   "cell_type": "markdown",
   "metadata": {},
   "source": [
    "## What genre of albums are most frequently reviewed?"
   ]
  },
  {
   "cell_type": "code",
   "execution_count": null,
   "metadata": {},
   "outputs": [],
   "source": [
    "genres = billfuzzypitch[billfuzzypitch['hasreview'] == True]\n",
    "genres\n",
    "\n",
    "a = billfuzzypitch.groupby(['genre'])['genre'].count().sort_values(ascending=False)\n",
    "a = a[0:10]\n",
    "\n",
    "b = pitchfork.groupby(['genre'])['genre'].count().sort_values(ascending=False)\n",
    "b = b[0:10]"
   ]
  },
  {
   "cell_type": "code",
   "execution_count": null,
   "metadata": {
    "scrolled": false
   },
   "outputs": [],
   "source": [
    "#Let's look at the genre\n",
    "plt.figure(figsize = [12,12])\n",
    "plt.subplot(1,2,1)\n",
    "plt.title(\"The 10 Most Common Genres Pitchfork Reviews From The Billboard 200\") #title for subplots\n",
    "#plt.xlabel(\"Genre\") #title for x axis\n",
    "plt.ylabel(\"Reviews per Genre\") #title for y axis\n",
    "sns.barplot(x = a.index, y = a.values)\n",
    "plt.xticks(rotation='vertical')\n",
    "\n",
    "plt.subplot(1,2,2)\n",
    "plt.subplots_adjust(right = 1.0, top = 0.4)\n",
    "plt.title(\"The 10 Most Common Genres of Albums Pitchfork Reviews\") #title for subplots\n",
    "#plt.xlabel(\"Genre\") #title for x axis\n",
    "plt.ylabel(\"Reviews per Genre\") #title for y axis\n",
    "sns.barplot(x = b.index, y = b.values)\n",
    "plt.xticks(rotation='vertical')"
   ]
  },
  {
   "cell_type": "code",
   "execution_count": null,
   "metadata": {
    "scrolled": true
   },
   "outputs": [],
   "source": [
    "plt.figure()\n",
    "plt.title(\"The 20 Most Common Genres of Albums Pitchfork Reviews Regardless of Billboard Ranking\") #title for subplots\n",
    "#plt.xlabel(\"Genre\") #title for x axis\n",
    "plt.ylabel(\"Reviews per Genre\") #title for y axis\n",
    "sns.barplot(x = b.index, y = b.values)\n",
    "plt.xticks(rotation='vertical')"
   ]
  },
  {
   "cell_type": "markdown",
   "metadata": {},
   "source": [
    "Pitchfork likes Rock music. They also don't classify any of the albums they review as Indie, which is funny since Pitchfork clearly loves Indie music."
   ]
  },
  {
   "cell_type": "markdown",
   "metadata": {},
   "source": [
    "## Which genres does Pitchfork like?"
   ]
  },
  {
   "cell_type": "code",
   "execution_count": null,
   "metadata": {},
   "outputs": [],
   "source": [
    "billfuzzypitch"
   ]
  },
  {
   "cell_type": "code",
   "execution_count": null,
   "metadata": {},
   "outputs": [],
   "source": [
    "genres = billfuzzypitch[billfuzzypitch['hasreview'] == True]\n",
    "genres\n",
    "\n",
    "c = genres.groupby(['genre'])['pitchfork score'].mean().sort_values(ascending=False)\n",
    "\n",
    "d = pitchfork.groupby(['genre'])['score'].mean().sort_values(ascending=False)"
   ]
  },
  {
   "cell_type": "code",
   "execution_count": null,
   "metadata": {},
   "outputs": [],
   "source": [
    "c"
   ]
  },
  {
   "cell_type": "code",
   "execution_count": null,
   "metadata": {},
   "outputs": [],
   "source": [
    "d"
   ]
  },
  {
   "cell_type": "code",
   "execution_count": null,
   "metadata": {},
   "outputs": [],
   "source": [
    "good_rows.shape"
   ]
  },
  {
   "cell_type": "code",
   "execution_count": null,
   "metadata": {},
   "outputs": [],
   "source": [
    "blahblah = genres[genres['pitchfork score'] >= 6]"
   ]
  },
  {
   "cell_type": "code",
   "execution_count": null,
   "metadata": {},
   "outputs": [],
   "source": [
    "print(len(blahblah)/(len(good_rows)))"
   ]
  },
  {
   "cell_type": "markdown",
   "metadata": {},
   "source": [
    "Only 10% of all of the albums Pitchfork has ever reviewed actually got a score of 8.4 or above. On a grading scale, an 8.4 is an A. With that same logic in mind, what's an F? 57.8% of all albums reviewed received a 7.4 or less."
   ]
  },
  {
   "cell_type": "code",
   "execution_count": null,
   "metadata": {},
   "outputs": [],
   "source": [
    "blahblahblah = pitchfork[pitchfork['score'] >= 8.4]"
   ]
  },
  {
   "cell_type": "code",
   "execution_count": null,
   "metadata": {},
   "outputs": [],
   "source": [
    "print(len(blahblahblah)/(len(pitchfork)))"
   ]
  },
  {
   "cell_type": "code",
   "execution_count": null,
   "metadata": {},
   "outputs": [],
   "source": [
    "blahblahblah = pitchfork[pitchfork['score'] <= 7.4]"
   ]
  },
  {
   "cell_type": "code",
   "execution_count": null,
   "metadata": {},
   "outputs": [],
   "source": [
    "print(len(blahblahblah)/(len(pitchfork)))"
   ]
  },
  {
   "cell_type": "code",
   "execution_count": null,
   "metadata": {},
   "outputs": [],
   "source": [
    "plt.figure(figsize = [10,10])\n",
    "plt.title(\"Pitchfork Review Score Frequencies\") #title for subplots\n",
    "#plt.xlabel(\"Genre\") #title for x axis\n",
    "plt.ylabel(\"Frequency\") #title for y axis\n",
    "sns.distplot(pitchfork['score'])\n",
    "plt.xticks(rotation='vertical')"
   ]
  },
  {
   "cell_type": "code",
   "execution_count": null,
   "metadata": {},
   "outputs": [],
   "source": [
    "print(pitchfork['score'].mean())\n",
    "print(pitchfork['score'].median())"
   ]
  },
  {
   "cell_type": "code",
   "execution_count": null,
   "metadata": {},
   "outputs": [],
   "source": [
    "plt.figure(figsize = [10,10])\n",
    "plt.title(\"Pitchfork Score Frequencies for the Billboard 200\") #title for subplots\n",
    "#plt.xlabel(\"Genre\") #title for x axis\n",
    "plt.ylabel(\"Frequency\") #title for y axis\n",
    "plt.ylabel(\"Pitchfork Score\")\n",
    "sns.distplot(genres['pitchfork score'])\n",
    "plt.xticks(rotation='vertical')"
   ]
  },
  {
   "cell_type": "code",
   "execution_count": null,
   "metadata": {},
   "outputs": [],
   "source": [
    "genres['pitchfork score'].median()"
   ]
  },
  {
   "cell_type": "markdown",
   "metadata": {},
   "source": [
    "## Correlation Matrix for Pitchfork Scores and Billboard Rankings"
   ]
  },
  {
   "cell_type": "markdown",
   "metadata": {},
   "source": [
    "**Correlation Matrix: ALL OF OUR PREDICTORS ARE BELONG TO US**"
   ]
  },
  {
   "cell_type": "code",
   "execution_count": null,
   "metadata": {},
   "outputs": [],
   "source": [
    "df1 = billfuzzypitch.filter(['billboard rank', 'length', 'track length', 'pitchfork score', 'bnm'], axis = 1)\n",
    "df1.head(3)"
   ]
  },
  {
   "cell_type": "code",
   "execution_count": null,
   "metadata": {},
   "outputs": [],
   "source": [
    "sns.heatmap(df1.corr(),\n",
    "                                vmin=-1, vmax=1, center=0,\n",
    "                                cmap=sns.diverging_palette(20, 220, n=200),\n",
    "                                square=True)\n",
    "#mov_data = ['billboard index', 'billboard date', 'artist', 'album', 'billboard rank', 'length', 'track length', 'pitchfork index', 'genre', 'pitchfork score', 'date of review', 'author', 'author', 'role', 'review', 'bnm', 'link', 'hasreview']\n",
    "#ax.set_xticklabels(mov_data)\n",
    "#ax.set_yticklabels(mov_data)\n",
    "plt.show()"
   ]
  },
  {
   "cell_type": "code",
   "execution_count": null,
   "metadata": {},
   "outputs": [],
   "source": [
    "corr_df = df1.corr()\n",
    "corr_df"
   ]
  },
  {
   "cell_type": "code",
   "execution_count": null,
   "metadata": {},
   "outputs": [],
   "source": [
    "df1 = billfuzzypitch.filter(['billboard index', 'billboard rank', 'length', 'track length', 'pitchfork index', 'pitchfork score', 'bnm'], axis = 1)\n",
    "df1.head(3)"
   ]
  },
  {
   "cell_type": "code",
   "execution_count": null,
   "metadata": {},
   "outputs": [],
   "source": [
    "sns.pairplot(df1)"
   ]
  },
  {
   "cell_type": "markdown",
   "metadata": {},
   "source": [
    "There's a slight negative correlation between Pitchfork labeling an albumn \"Best New Music\" and a slight positive correlation between a high Pitchfork score and a low Billboard ranking. This is interesting, and could simply be due to the random sampling nature of the data. It could also be that Pitchfork prefers albums that aren't generally popular to the public. The \"Best New Music\"'s negative correlation seems to imply that getting stamped \"Best New Music\" correlates with a slight uptick in billboard ranking."
   ]
  },
  {
   "cell_type": "markdown",
   "metadata": {},
   "source": [
    "## Measuring the Polarity of the Billboard 200"
   ]
  },
  {
   "cell_type": "markdown",
   "metadata": {},
   "source": [
    "Getting the polarity scores of different words."
   ]
  },
  {
   "cell_type": "code",
   "execution_count": null,
   "metadata": {},
   "outputs": [],
   "source": [
    "sent = pd.read_csv(\"vader_lexicon.txt\",\n",
    "                   header = None, \n",
    "                   names = [\"token\", \"polarity\", \"standard deviation\", \"raw-human-sentiment-rating\"],\n",
    "                   sep = \"\\t\",\n",
    "                   usecols = [0,1],\n",
    "                   index_col = \"token\")\n",
    "sent.head(5)"
   ]
  },
  {
   "cell_type": "code",
   "execution_count": null,
   "metadata": {},
   "outputs": [],
   "source": [
    "billfuzzypitch['review'] = billfuzzypitch['review'].str.lower()\n",
    "punct_re = r'[^\\w\\s]'\n",
    "billfuzzypitch['no punc'] = billfuzzypitch['review'].str.replace(punct_re, \" \")\n",
    "tidy_format = billfuzzypitch['no punc'].str.split(expand= True).stack().reset_index(level=1).rename(columns={\"level_1\": \"num\", 0: \"word\"})"
   ]
  },
  {
   "cell_type": "code",
   "execution_count": null,
   "metadata": {},
   "outputs": [],
   "source": [
    "billfuzzypitch['polarity'] = (\n",
    "    tidy_format\n",
    "    .merge(sent, how='left', left_on='word', right_index=True)\n",
    "    .reset_index()\n",
    "    .loc[:, ['index','polarity']]\n",
    "    .groupby('index')\n",
    "    .sum()\n",
    "    .fillna(0)\n",
    ")\n",
    "\n",
    "#billfuzzypitch.query(\"hasreview == True\")"
   ]
  },
  {
   "cell_type": "markdown",
   "metadata": {},
   "source": [
    "## Now to see if there's a correlation between review polarity and either Billboard Ranking or "
   ]
  },
  {
   "cell_type": "code",
   "execution_count": null,
   "metadata": {},
   "outputs": [],
   "source": [
    "df2 = billfuzzypitch.filter(['billboard rank', 'length', 'track length', 'pitchfork score', 'bnm', 'polarity'], axis = 1)"
   ]
  },
  {
   "cell_type": "code",
   "execution_count": null,
   "metadata": {},
   "outputs": [],
   "source": [
    "df2.corr()"
   ]
  },
  {
   "cell_type": "code",
   "execution_count": null,
   "metadata": {},
   "outputs": [],
   "source": [
    "sns.heatmap(df2.corr(),\n",
    "                                vmin=-1, vmax=1, center=0,\n",
    "                                cmap=sns.diverging_palette(20, 220, n=200),\n",
    "                                square=True)\n",
    "#mov_data = ['billboard index', 'billboard date', 'artist', 'album', 'billboard rank', 'length', 'track length', 'pitchfork index', 'genre', 'pitchfork score', 'date of review', 'author', 'author', 'role', 'review', 'bnm', 'link', 'hasreview']\n",
    "#ax.set_xticklabels(mov_data)\n",
    "#ax.set_yticklabels(mov_data)\n",
    "plt.show()"
   ]
  },
  {
   "cell_type": "code",
   "execution_count": null,
   "metadata": {},
   "outputs": [],
   "source": [
    "sns.pairplot(df2)\n",
    ";"
   ]
  },
  {
   "cell_type": "markdown",
   "metadata": {},
   "source": [
    "## Multiple Linear Regression: Regressing Billboard Rank on Numerical Features"
   ]
  },
  {
   "cell_type": "markdown",
   "metadata": {},
   "source": [
    "Does Pitchfork Polarity and album ranking bear any weight on Billboard 200?"
   ]
  },
  {
   "cell_type": "code",
   "execution_count": null,
   "metadata": {},
   "outputs": [],
   "source": [
    "from sklearn.datasets import load_diabetes\n",
    "from sklearn import linear_model\n",
    "from scipy import stats\n",
    "import statsmodels.api as sm\n",
    "\n"
   ]
  },
  {
   "cell_type": "code",
   "execution_count": null,
   "metadata": {
    "collapsed": true
   },
   "outputs": [],
   "source": [
    "model_data[model_data[\"bnm\"] != None]"
   ]
  },
  {
   "cell_type": "code",
   "execution_count": null,
   "metadata": {},
   "outputs": [],
   "source": [
    "model_data = billfuzzypitch.query(\"hasreview == True\")   \n",
    "model_data = model_data.dropna()\n",
    "model_data['intercept'] = 1\n",
    "\n",
    "billboard_rank = model_data['billboard rank']\n",
    "\n",
    "billboard_features = model_data.filter(['intercept','track length','length', 'pitchfork score', 'bnm', 'polarity'], axis = 1)"
   ]
  },
  {
   "cell_type": "code",
   "execution_count": null,
   "metadata": {},
   "outputs": [],
   "source": [
    "model_rankonfeatures = sm.OLS(billboard_rank, billboard_features).fit()\n",
    "model_rankonfeatures.summary()\n",
    "\n"
   ]
  },
  {
   "cell_type": "code",
   "execution_count": null,
   "metadata": {},
   "outputs": [],
   "source": [
    "model_rankonfeatures.conf_int()\n",
    "\n",
    "y_hat = model_rankonfeatures.fittedvalues\n",
    "y = billboard_rank\n",
    "\n",
    "residuals = y - y_hat\n",
    "min(y_hat)"
   ]
  },
  {
   "cell_type": "code",
   "execution_count": null,
   "metadata": {},
   "outputs": [],
   "source": [
    "plt.figure(figsize = [10,10])\n",
    "plt.title(\"Residuals Plot\") #title for subplots\n",
    "plt.xlabel(\"Fitted Values\") #title for x axis\n",
    "plt.ylabel(\"Residuals\") #title for y axis\n",
    "sns.scatterplot(y_hat, residuals)\n",
    "plt.xticks(rotation='vertical')"
   ]
  },
  {
   "cell_type": "markdown",
   "metadata": {},
   "source": [
    "## Multiple Linear Regression: Regressing Pitchfork Score on BNM and Review Polarity"
   ]
  },
  {
   "cell_type": "markdown",
   "metadata": {},
   "source": [
    "The takeaway here is that Pitchfork's review polarity, BNM labeling, and album score have no statistically significant power in explaining or predicting an albums Billboard 200 ranking."
   ]
  },
  {
   "cell_type": "code",
   "execution_count": null,
   "metadata": {},
   "outputs": [],
   "source": [
    "model_data = billfuzzypitch.query(\"hasreview == True\")   \n",
    "model_data = model_data.dropna()\n",
    "model_data['intercept'] = 1\n",
    "\n",
    "pitchfork_score = model_data['pitchfork score'].values\n",
    "\n",
    "pitchfork_features = np.asarray(model_data.filter(['intercept','bnm', 'polarity'], axis = 1).values.tolist())\n"
   ]
  },
  {
   "cell_type": "code",
   "execution_count": null,
   "metadata": {
    "scrolled": false
   },
   "outputs": [],
   "source": [
    "#model_pitchscoreonfeatures = sm.OLS(pitchfork_score, pitchfork_features).fit()\n",
    "model_pitchscoreonfeatures = sm.OLS(model_data['pitchfork score'], model_data.filter(['intercept','bnm', 'polarity'], axis = 1)).fit()\n",
    "\n",
    "\n",
    "model_pitchscoreonfeatures.summary()"
   ]
  },
  {
   "cell_type": "markdown",
   "metadata": {},
   "source": [
    "Interesting find! Based on these results, if an album is labeled \"Best New Music\", in general, Pitchfork's album score will increase by approximately 2 points. Also, since the Polarity of an album is not statistical significant, it shows that an album's polarity does not predict it's album score. This could either be based on a flaw in my method of ascertaining the polarity of an album. However, this could also be because the review itself is its own work of art, with the author of the review expressing her response to the album, rather than evaluating the music based off rigid criteria. It also lends to the idea that Pitchfork as a reviewing entity behaves more like an individual with specific preferences, rather than an agency meant to provide objective ratings.\n",
    "\n",
    "Pitchfork's opinion of an album also has very little weight when it comes to predicting an albums success. Many succesful albums on the Billboard 200 were never reviewed by Pitchfork, and for the albums that Pitchfork did review, their score of an album bore no weight on its overall Billboard 200 success."
   ]
  },
  {
   "cell_type": "code",
   "execution_count": null,
   "metadata": {},
   "outputs": [],
   "source": [
    "y_hat = model_pitchscoreonfeatures.fittedvalues\n",
    "y = pitchfork_score\n",
    "\n",
    "residuals = y - y_hat"
   ]
  },
  {
   "cell_type": "code",
   "execution_count": null,
   "metadata": {},
   "outputs": [],
   "source": [
    "plt.figure(figsize = [10,10])\n",
    "plt.title(\"Residuals Plot\") #title for subplots\n",
    "plt.xlabel(\"Fitted Values\") #title for x axis\n",
    "plt.ylabel(\"Residuals\") #title for y axis\n",
    "sns.scatterplot(y_hat, residuals)\n",
    "plt.xticks(rotation='vertical')"
   ]
  },
  {
   "cell_type": "markdown",
   "metadata": {},
   "source": []
  }
 ],
 "metadata": {
  "kernelspec": {
   "display_name": "Python 3",
   "language": "python",
   "name": "python3"
  },
  "language_info": {
   "codemirror_mode": {
    "name": "ipython",
    "version": 3
   },
   "file_extension": ".py",
   "mimetype": "text/x-python",
   "name": "python",
   "nbconvert_exporter": "python",
   "pygments_lexer": "ipython3",
   "version": "3.7.3"
  }
 },
 "nbformat": 4,
 "nbformat_minor": 2
}
